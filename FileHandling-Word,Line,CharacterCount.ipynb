{
 "cells": [
  {
   "cell_type": "markdown",
   "metadata": {},
   "source": [
    "5. (10 points) Write a program to request a file name from the user and calculate the following statistics of the contents of the file:\n",
    "• Number of lines\n",
    "• Number of words\n",
    "• Number of characters\n",
    "• Average length of a word\n",
    "In this problem use the following definitions:\n",
    "A line is a sequence of characters that end with a newline (\\n) character\n",
    "A word bounded by one or more spaces (or \\n) on either side of it (or both sides)\n",
    "A character is any single length string, e.g. ‘a’, ‘-‘, etc. but not a space (or white space)\n",
    "An example file called robertfrost.txt is included in the homework files Sample Run\n",
    "What is the filename: robertfrost.txt Number of lines: 4\n",
    "Number of words: 27 Number of characters: 103\n",
    "Average length of a word: 3.8\n",
    "\n",
    "\n",
    "\n",
    "Instruction/ Read me:\n",
    "1.  Programs starts by prompting user to enter filename.\n",
    "2.  Validation for filenotfounderror implemented, so exact filname with extension has to be given to open file.\n",
    "3.  On success, file will be opened and number of lines is first ready by splitting the file using EOL as delimiter.\n",
    "4.  For number of words, in addition to existing whitespace, other characters like \",\" is replaced with whitespace in order to get just the words using split.\n",
    "5.  For Characters, program begins with the same procedure from 3 and continue to remove all whitespace in order to get al the characters.\n",
    "6.   For average length of word is calculate by dividing number of characters found and number of words and is rounded off to the nearest significance. \n",
    "\n",
    "7. Additionally, tried another way of finding the number of characters by just replacing whitespace and , directly but ended up with a result of 99 since tthe , at EOL and 1 period was not considered a character.\n",
    "\n"
   ]
  },
  {
   "cell_type": "code",
   "execution_count": 1,
   "metadata": {},
   "outputs": [
    {
     "name": "stdout",
     "output_type": "stream",
     "text": [
      "What is the filename: RoberFrost.txt\n",
      "File not found, Please check the filename again\n",
      "What is the filename: RobertFrost.txt\n",
      "Number of lines:  4\n",
      "Number of words:  27\n",
      "Number of characters:  103\n",
      "Average length of a word:  3.8\n"
     ]
    }
   ],
   "source": [
    "while True:\n",
    "    try:\n",
    "        inputName = input(\"What is the filename: \")\n",
    "        file = open(inputName)\n",
    "        break\n",
    "    except FileNotFoundError:\n",
    "        print(\"File not found, Please check the filename again\")\n",
    "        continue\n",
    "    \n",
    "    \n",
    "inp = file.read()\n",
    "num_line = len(inp.split(\"\\n\"))\n",
    "num_words_list = inp.split(\"\\n\")\n",
    "#print(num_words)\n",
    "num_words_string = \"\"\n",
    "num_words_string = num_words_string.join(num_words_list)\n",
    "#print(num_words_string)\n",
    "num_words_special_list =  num_words_string.replace(\",\",\" \")\n",
    "#print(num_words_special_list)\n",
    "final_num_words = num_words_special_list.split()\n",
    "#print(final_num_words)\n",
    "character_words = inp.replace(\"\\n\",\" \")\n",
    "character_words_list = character_words.replace(\" \",\"\")\n",
    "final_num_char = len(character_words_list)\n",
    "avg_len_word = round(final_num_char/len(final_num_words),1)\n",
    "\n",
    "print(\"Number of lines: \",num_line)\n",
    "print(\"Number of words: \",len(final_num_words))\n",
    "print(\"Number of characters: \",  (final_num_char))\n",
    "print(\"Average length of a word: \",avg_len_word )\n",
    "\n",
    "file.close()"
   ]
  },
  {
   "cell_type": "code",
   "execution_count": null,
   "metadata": {},
   "outputs": [],
   "source": []
  }
 ],
 "metadata": {
  "kernelspec": {
   "display_name": "Python 3",
   "language": "python",
   "name": "python3"
  },
  "language_info": {
   "codemirror_mode": {
    "name": "ipython",
    "version": 3
   },
   "file_extension": ".py",
   "mimetype": "text/x-python",
   "name": "python",
   "nbconvert_exporter": "python",
   "pygments_lexer": "ipython3",
   "version": "3.8.3"
  }
 },
 "nbformat": 4,
 "nbformat_minor": 4
}
