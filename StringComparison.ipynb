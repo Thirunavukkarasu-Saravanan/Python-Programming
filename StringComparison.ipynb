{
 "cells": [
  {
   "cell_type": "markdown",
   "metadata": {},
   "source": [
    "Implement a program that requests three strings from the user. Your program should concatenate the first two strings (string1 + string2) and compare the concatenated string with the third string. If they are equal, your program should print “The two strings are equal”, otherwise, the program should concatenate the two strings in the reverse order (string2 + string1) and compare it with the third string and print “The two strings are equal”. If this second test also fails, your program should print “The two strings are not equal”. A partial sample run is shown below: \n",
    "\n",
    "Enter string 1: Good\n",
    "Enter second string: bye!\n",
    "Enter third string: Goodbye! \n",
    "The two strings are equal \n",
    " \n",
    "Enter string 1: 12 \n",
    "Enter second string: bye! \n",
    "Enter third string: bye!12 \n",
    "The two strings are equal \n",
    " \n",
    "Enter string 1: 12 Enter second string: bye! \n",
    "Enter third string: Goodbye! \n",
    "The two strings are not equal"
   ]
  },
  {
   "cell_type": "code",
   "execution_count": 2,
   "metadata": {},
   "outputs": [
    {
     "name": "stdout",
     "output_type": "stream",
     "text": [
      "Enter first string : Rev\n",
      "Enter second string: ver\n",
      "Enter third string : verRev\n",
      "concat string  is = Revver\n",
      "rev concat string  is = verRev\n",
      "The two strings are equal\n"
     ]
    }
   ],
   "source": [
    "#Declare and set variable to user inputs\n",
    "firstString = input('Enter first string : ').strip()\n",
    "secondString = input('Enter second string: ').strip()\n",
    "thirdString = input('Enter third string : ').strip()\n",
    "\n",
    "#Concatenate first and second string\n",
    "concatString = firstString + secondString\n",
    "#Concatenate second and first string\n",
    "revconcatString = secondString + firstString\n",
    "\n",
    "print(\"concat string  is = \"+ concatString)\n",
    "print(\"rev concat string  is = \"+ revconcatString)\n",
    "\n",
    "#Checking if concatenated string and third string are same\n",
    "if(concatString == thirdString):\n",
    "    print('The two strings are equal')\n",
    "#Checking if the reverse concatenated string and third string are same    \n",
    "elif((secondString + firstString) == thirdString):\n",
    "    print('The two strings are equal')\n",
    "#upon both the condition to be false, the following will be printed\n",
    "else:\n",
    "    print('The two strings are not equal')"
   ]
  },
  {
   "cell_type": "code",
   "execution_count": null,
   "metadata": {},
   "outputs": [],
   "source": []
  }
 ],
 "metadata": {
  "kernelspec": {
   "display_name": "Python 3",
   "language": "python",
   "name": "python3"
  },
  "language_info": {
   "codemirror_mode": {
    "name": "ipython",
    "version": 3
   },
   "file_extension": ".py",
   "mimetype": "text/x-python",
   "name": "python",
   "nbconvert_exporter": "python",
   "pygments_lexer": "ipython3",
   "version": "3.8.3"
  }
 },
 "nbformat": 4,
 "nbformat_minor": 4
}
