{
 "cells": [
  {
   "cell_type": "markdown",
   "metadata": {},
   "source": [
    "An integer, greater than 1, that is only divisible by 1 and itself is called a prime number. All other numbers greater than 1 are called composite numbers. The integers 0 and 1 are neither prime nor composite. Write a python program that requests a positive integer from the user, determines if it is a prime, composite or neither prime or composite and prints the message. You can choose to use iterative loops to repeatedly run this script or have the user run the script \n",
    "for every input. Please specify instructions to run the code in markdown language above the code cell. Sample runs are shown below: \n",
    "Enter positive integer: 3 \n",
    "It is a prime \n",
    "Enter positive integer: 4 \n",
    "It is a composite \n",
    "Enter positive integer: 1 \n",
    "It is neither prime nor composite \n",
    "Enter positive integer: -5 \n",
    "Error: You did not enter a positive integer \n",
    "Enter positive integer: -2.5 \n",
    "Error: You did not enter a positive integer \n",
    "Enter positive integer: Hi \n",
    "Error: You did not enter a positive integer"
   ]
  },
  {
   "cell_type": "code",
   "execution_count": 1,
   "metadata": {},
   "outputs": [
    {
     "name": "stdout",
     "output_type": "stream",
     "text": [
      "Enter positive integer:3\n",
      "The magic number is 3\n",
      "3 is a  prime number\n"
     ]
    }
   ],
   "source": [
    "userInput = int(input(\"Enter positive integer:\")) \n",
    "while userInput < 0:\n",
    "    try:\n",
    "        print(\"Please enter a positive integer that is not 0 or 1\")\n",
    "        userInput = int(input(\"Enter positive integer:\")) \n",
    "    except ValueError:\n",
    "        print(type(userInput))\n",
    "        print(\"String identified, Please enter a postive number\")\n",
    "    while not type(userInput) is int:\n",
    "        userInput = int(input(\"Enter positive integer:\"))\n",
    "        print('string exception loop success')\n",
    "    print('out of exception')\n",
    "print('The magic number is' ,userInput )  \n",
    "\n",
    "if(userInput == 1 or userInput == 0):\n",
    "    print(userInput,\"is neither a prime nor composite number\")\n",
    "\n",
    "#checking for Prime or composite number\n",
    "if(userInput > 1):\n",
    "    for i in range(2, userInput):\n",
    "            if(userInput % i == 0):\n",
    "                print(userInput, 'is a composite number ')\n",
    "                break\n",
    "            else:\n",
    "                print(userInput,\"is a  prime number\")"
   ]
  },
  {
   "cell_type": "code",
   "execution_count": null,
   "metadata": {},
   "outputs": [],
   "source": []
  }
 ],
 "metadata": {
  "kernelspec": {
   "display_name": "Python 3",
   "language": "python",
   "name": "python3"
  },
  "language_info": {
   "codemirror_mode": {
    "name": "ipython",
    "version": 3
   },
   "file_extension": ".py",
   "mimetype": "text/x-python",
   "name": "python",
   "nbconvert_exporter": "python",
   "pygments_lexer": "ipython3",
   "version": "3.8.3"
  }
 },
 "nbformat": 4,
 "nbformat_minor": 4
}
