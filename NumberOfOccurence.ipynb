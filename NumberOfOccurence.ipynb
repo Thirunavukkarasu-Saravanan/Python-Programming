{
 "cells": [
  {
   "cell_type": "markdown",
   "metadata": {},
   "source": [
    "3. (10 points) Write a function that accepts a line of text and a single letter as input and returns the number of times the letter is the first character of a word Sample runs are given below:\n",
    "\n",
    "Instruction/ Read me:\n",
    "1.  Programs starts by prompting user to enter a string.\n",
    "2.  Followed by user entering their choice of a single letter, validated,\n",
    "3.  String is split into list of words\n",
    "4.  Loop is run on words and condition to check first letter of each word and user choice of letter is executed, and count is increased per match.\n",
    "5. Final number of occurence of user choice of letter is printed."
   ]
  },
  {
   "cell_type": "code",
   "execution_count": 1,
   "metadata": {},
   "outputs": [
    {
     "name": "stdout",
     "output_type": "stream",
     "text": [
      "Enter your line of text: Hi hellow how are you\n",
      "Enter your letter to use: h\n",
      "Your letter  h occurs as the first letter:  2 times\n"
     ]
    }
   ],
   "source": [
    "while True:\n",
    "    try:\n",
    "        userText = input('Enter your line of text: ')\n",
    "        userInput = input('Enter your letter to use: ')\n",
    "        if len(userInput) == 1:\n",
    "            break\n",
    "        else:\n",
    "            print('Please enter only one letter')\n",
    "    except ValueError:\n",
    "        print('Invalid input, Please enter a letter')\n",
    "\n",
    "wordsinText = userText.split(' ')\n",
    "letterRepeated = 0\n",
    "for i in wordsinText:\n",
    "    if i[0] == userInput:\n",
    "        letterRepeated = letterRepeated + 1\n",
    "\n",
    "print ('Your letter ', userInput, 'occurs as the first letter: ',\\\n",
    "       letterRepeated, 'times')"
   ]
  },
  {
   "cell_type": "code",
   "execution_count": null,
   "metadata": {},
   "outputs": [],
   "source": []
  }
 ],
 "metadata": {
  "kernelspec": {
   "display_name": "Python 3",
   "language": "python",
   "name": "python3"
  },
  "language_info": {
   "codemirror_mode": {
    "name": "ipython",
    "version": 3
   },
   "file_extension": ".py",
   "mimetype": "text/x-python",
   "name": "python",
   "nbconvert_exporter": "python",
   "pygments_lexer": "ipython3",
   "version": "3.8.3"
  }
 },
 "nbformat": 4,
 "nbformat_minor": 4
}
