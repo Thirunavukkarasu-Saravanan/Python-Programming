{
 "cells": [
  {
   "cell_type": "markdown",
   "metadata": {},
   "source": [
    "2. (10 points) Write a program where the user and the program/computer trade places in the number guessing game. Prompt the user for a number (between 1 and 100, inclusive) that the program/computer has to guess. Keep track of the number of iterations it takes for the computer to guess the number. Sample runs are shown below:\n",
    "\n",
    "Instruction/ Read me:\n",
    "1.  Programs starts by prompting user to enter a number between 1 - 100 (inclusive), validation for input defined with try/except.\n",
    "2. Loop runs until random number generated matches user input.\n",
    "3. Iteration count is mainted for each run of loop."
   ]
  },
  {
   "cell_type": "code",
   "execution_count": 1,
   "metadata": {},
   "outputs": [
    {
     "name": "stdout",
     "output_type": "stream",
     "text": [
      "Enter number to be guessed : s\n",
      "Invalid input, Please enter a number between 1 and 100\n",
      "Enter number to be guessed :  \n",
      "Invalid input, Please enter a number between 1 and 100\n",
      "Enter number to be guessed : 3\n",
      "You guessed  3 , and it took the program  80  iterations\n"
     ]
    }
   ],
   "source": [
    "import random\n",
    "\n",
    "while True:\n",
    "    #Get userinput\n",
    "    try:\n",
    "        userInput = int(input('Enter number to be guessed : '))\n",
    "        #validate user input for 0-100 inclusive\n",
    "        if userInput > 0 and userInput < 101:\n",
    "            break\n",
    "        else:\n",
    "            print('Please enter a number between 1 and 100')\n",
    "    #validate for invalid input type        \n",
    "    except ValueError:\n",
    "        print('Invalid input, Please enter a number between 1 and 100')\n",
    "\n",
    "#iteration variable\n",
    "iNum = 0\n",
    "#condition to check user input matching random number generator\n",
    "while userInput != random.randrange(1, 101):\n",
    "    iNum = iNum + 1\n",
    "\n",
    "print('You guessed ', userInput, ', and it took the program ', iNum, \\\n",
    "       ' iterations')\n"
   ]
  },
  {
   "cell_type": "code",
   "execution_count": null,
   "metadata": {},
   "outputs": [],
   "source": []
  }
 ],
 "metadata": {
  "kernelspec": {
   "display_name": "Python 3",
   "language": "python",
   "name": "python3"
  },
  "language_info": {
   "codemirror_mode": {
    "name": "ipython",
    "version": 3
   },
   "file_extension": ".py",
   "mimetype": "text/x-python",
   "name": "python",
   "nbconvert_exporter": "python",
   "pygments_lexer": "ipython3",
   "version": "3.8.3"
  }
 },
 "nbformat": 4,
 "nbformat_minor": 4
}
