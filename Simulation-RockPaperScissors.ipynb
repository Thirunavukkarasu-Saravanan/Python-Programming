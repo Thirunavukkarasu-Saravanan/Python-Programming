{
 "cells": [
  {
   "cell_type": "markdown",
   "metadata": {},
   "source": [
    "1. (10 points) “Rock-paper-scissors is a hand game that is played by two people. The players count to three in unison and simultaneously \"throw\" one of three hand signals that correspond to rock, paper or scissors. The winner is determined by the rules:\n",
    "• Rock smashes scissors\n",
    "• Scissors cuts paper\n",
    "• Paper covers rock\n",
    "Rock-paper-scissors is a surprisingly popular game that many people play seriously (see the Wikipedia article for details).\n",
    "Write a Python program to ask the user’s choice of Rock paper scissors. The program then, randomly, chooses a choice for itself (the computer) and then compares it with the user’s choice. The final output should show, the user’s choice, the program’s choice and the winner.\n",
    "Sample runs are shown below:\n",
    "Enter your choice: rock Computer chooses scissors You, the user, win!\n",
    "Enter your choice: paper Computer chooses: scissors\n",
    "I, the computer, win!\n",
    "Enter your choice: scissors Computer chooses scissors User and computer tie!\n",
    "\n",
    "Instruction/ Read me:\n",
    "1. Defined a function to calculate logic for win between 2 inputs of 3 choice (rock, paper and scissors)\n",
    "2. Programs starts by prompting user to enter a choice from (rock, paper, scissors)\n",
    "3. Validation for input for invalid type and input other than 3 choices is defined\n",
    "4. Using random, computer choice is set randomly from list.\n",
    "5. Both user choice and computer choice are given to function as arguments which determine who won."
   ]
  },
  {
   "cell_type": "code",
   "execution_count": 1,
   "metadata": {},
   "outputs": [
    {
     "name": "stdout",
     "output_type": "stream",
     "text": [
      "Enter your choice: r\n",
      "Invalid Choice, please try again\n",
      "Enter your choice: s\n",
      "Invalid Choice, please try again\n",
      "Enter your choice: rock\n",
      "Computer chooses: rock\n",
      "User and computer tie!\n"
     ]
    }
   ],
   "source": [
    "import random\n",
    "\n",
    "\n",
    "def main():\n",
    "\n",
    " # define list with the choices\n",
    "\n",
    "    inputChoice = ['rock', 'paper', 'scissors']\n",
    "    while True:\n",
    "\n",
    "  # validate for input\n",
    "\n",
    "        try:\n",
    "            userChoice = input('Enter your choice: ')\n",
    "            if userChoice in inputChoice:\n",
    "                break\n",
    "            else:\n",
    "                print('Invalid Choice, please try again')\n",
    "                continue\n",
    "        except ValueError:\n",
    "            print ('Invalid input type, please try again')\n",
    "            continue\n",
    "\n",
    " # assign random choice from list to computer\n",
    "    compChoice = random.choice(inputChoice)\n",
    "    print('Computer chooses:', compChoice)\n",
    " # pass in both the user and computer choice to function to determine who won\n",
    "    print(play(userChoice, compChoice))\n",
    "\n",
    "\n",
    "# function to determing who won based on two arguments\n",
    "\n",
    "def play(userChoice, compChoice):\n",
    "    result = ''\n",
    "    if userChoice == 'rock' and compChoice == 'paper':\n",
    "        result = 'I, the computer, win!'\n",
    "    elif userChoice == 'rock' and compChoice == 'scissors':\n",
    "        result = 'You, the user, win!'\n",
    "    elif userChoice == 'paper' and compChoice == 'scissors':\n",
    "        result = 'I, the computer, win!'\n",
    "    elif userChoice == 'paper' and compChoice == 'rock':\n",
    "        result = 'You, the user, win!'\n",
    "    elif userChoice == 'scissors' and compChoice == 'rock':\n",
    "        result = 'I, the computer, win!'\n",
    "    elif userChoice == 'scissors' and compChoice == 'paper':\n",
    "        result = 'You, the user, win!'\n",
    "    else:\n",
    "        result = 'User and computer tie!'\n",
    "    return result\n",
    "\n",
    "\n",
    "main()"
   ]
  },
  {
   "cell_type": "code",
   "execution_count": null,
   "metadata": {},
   "outputs": [],
   "source": []
  }
 ],
 "metadata": {
  "kernelspec": {
   "display_name": "Python 3",
   "language": "python",
   "name": "python3"
  },
  "language_info": {
   "codemirror_mode": {
    "name": "ipython",
    "version": 3
   },
   "file_extension": ".py",
   "mimetype": "text/x-python",
   "name": "python",
   "nbconvert_exporter": "python",
   "pygments_lexer": "ipython3",
   "version": "3.8.3"
  }
 },
 "nbformat": 4,
 "nbformat_minor": 4
}
