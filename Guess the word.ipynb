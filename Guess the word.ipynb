{
 "cells": [
  {
   "cell_type": "markdown",
   "metadata": {},
   "source": [
    "1. (25 points) A string is an anagram of another if the second string is simply a scrambled version of the first. Write a python program to implement the following game: \n",
    "a)\tReads in a file that has words and their meanings in a text file. An example “words and their meanings” file is given in Canvas (i.e., mywords.txt). Note that your program needs to ask the user for the “words and their meanings” file to use. \n",
    "b)\tThe words and their meanings text file is of the csv (comma separated values) format. Use either notepad++ or notepad to create your file in the same format as the mywords.txt file given to you in Canvas. \n",
    "c)\tYour program should then pick a word from the “words and their meanings” file, scramble the letters, and ask the user to unscramble it. Every run of your program should pick a word at random. \n",
    "d)\tThe user may type in the unscrambled word or may ask for the definition/meaning of the word by entering a question mark. The game continues until the user says “no” to the question: “Do you want to continue?”. \n",
    "A sample run is shown below (user inputs are in red): \n",
    "\n",
    "\n",
    "Solution / Read me:\n",
    "1. Program begins by getting user input for filename to be read, file not found exception handled.\n",
    "2. Upon right file name given, file is opened and each line in file is read (CSV) and key value pair of words are stored in a dictionary.\n",
    "3. Loop is run again to get a random word and value of the same word.\n",
    "4. The random word (key) for the current loop is converted into a list of character and is shuffled randomly before being converted back to a string.\n",
    "5. User is prompted with the shuffled word to determine the right answer or type in \"?\" for the meaning of the word.\n",
    "6. Once user finds the right word, program gives a choice to try again or exit.\n",
    "7. Upon wrong answer, user is prompted to try again.\n",
    "8. testfile used to run program was mywords.txt from canvas and created similar test file based on the same format."
   ]
  },
  {
   "cell_type": "code",
   "execution_count": 1,
   "metadata": {},
   "outputs": [
    {
     "name": "stdout",
     "output_type": "stream",
     "text": [
      "Give the name of the “words and their meanings” file : asda\n",
      "File not found, Please check the filename again\n",
      "Give the name of the “words and their meanings” file : 22\n",
      "File not found, Please check the filename again\n",
      "Give the name of the “words and their meanings” file :  \n",
      "File not found, Please check the filename again\n",
      "Give the name of the “words and their meanings” file : mywords.txt\n",
      "Unscramble the following letters to form a word. Type “?” for the meaning of the unscrambled word:  onteloymog\n",
      "Enter the answer [or ? for the meaning]: ?\n",
      "study of insects\n",
      "Enter the answer [or ? for the meaning]: asda\n",
      "Wrong, try again \n",
      "Enter the answer [or ? for the meaning]: asda\n",
      "Wrong, try again \n",
      "Enter the answer [or ? for the meaning]: 3\n",
      "Wrong, try again \n",
      "Enter the answer [or ? for the meaning]:  \n",
      "Wrong, try again \n",
      "Enter the answer [or ? for the meaning]: sad\n",
      "Wrong, try again \n",
      "Enter the answer [or ? for the meaning]: entomology\n",
      "You got it! Do you want to continue[yes or no]yes\n",
      "Unscramble the following letters to form a word. Type “?” for the meaning of the unscrambled word:  glooeymotn\n",
      "Enter the answer [or ? for the meaning]: ?\n",
      "study of insects\n",
      "Enter the answer [or ? for the meaning]: entomology\n",
      "You got it! Do you want to continue[yes or no]no\n",
      "Goodbye!\n"
     ]
    }
   ],
   "source": [
    "import random\n",
    "while True:\n",
    "    try:\n",
    "        filename = input(\"Give the name of the “words and their meanings” file : \")\n",
    "        file = open(filename)\n",
    "        break\n",
    "    except FileNotFoundError:\n",
    "        print(\"File not found, Please check the filename again\")\n",
    "        continue\n",
    "dictWords = dict()\n",
    "for line in file:\n",
    "    listWords = line.split(\",\")\n",
    "    dictWords[listWords[0]] = listWords[1]\n",
    "# get a list of keys from dictionary\n",
    "keyWords = list(dictWords.keys())\n",
    "# assign a random word from list\n",
    "loopContinue = \"yes\"\n",
    "while(loopContinue == \"yes\"):\n",
    "    wordChoice = random.choice(keyWords)\n",
    "#get value for the key to display to user\n",
    "    valueWord = dictWords[wordChoice]\n",
    "#scramble selected word by converting into a list of characters and back to string\n",
    "    charWord = list(wordChoice)\n",
    "    random.shuffle(charWord)\n",
    "    scrambledWord = ''.join(charWord)\n",
    "    print(\"Unscramble the following letters to form a word. Type “?” for the meaning of the unscrambled word: \", scrambledWord)\n",
    "#Run a loop to iterate over the user input choices based on correct answer/ help (?) / wrong answer / start over again    \n",
    "    while True:\n",
    "        answer = input(\"Enter the answer [or ? for the meaning]: \")\n",
    "        if(answer == \"?\"):\n",
    "            print(valueWord)\n",
    "        elif(answer == wordChoice):\n",
    "            userInput = input(\"You got it! Do you want to continue[yes or no]\")\n",
    "            if(userInput == \"no\"):\n",
    "                loopContinue = \"no\"\n",
    "                break\n",
    "            else:\n",
    "                break\n",
    "        else:\n",
    "            print(\"Wrong, try again \")\n",
    "    \n",
    "print(\"Goodbye!\")"
   ]
  }
 ],
 "metadata": {
  "kernelspec": {
   "display_name": "Python 3",
   "language": "python",
   "name": "python3"
  },
  "language_info": {
   "codemirror_mode": {
    "name": "ipython",
    "version": 3
   },
   "file_extension": ".py",
   "mimetype": "text/x-python",
   "name": "python",
   "nbconvert_exporter": "python",
   "pygments_lexer": "ipython3",
   "version": "3.8.3"
  }
 },
 "nbformat": 4,
 "nbformat_minor": 4
}
