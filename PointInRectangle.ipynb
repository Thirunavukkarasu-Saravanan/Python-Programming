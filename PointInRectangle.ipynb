{
 "cells": [
  {
   "cell_type": "markdown",
   "metadata": {},
   "source": [
    "Write a program that takes as input two opposite corners of a rectangle: (x1,y1) and (x2,y2) – float or integer only. Finally, the user is prompted for the coordinates of a third point (x,y). The program should print Boolean value True or False based on whether the point (x,y) lies within the rectangle. At the end of each run, the users should be prompted to ask whether they want to continue.  \n",
    "Note that the rectangle could fall anywhere in the 2X2 plane of real numbers. \n",
    "Sample runs are shown below\n",
    "\n",
    "Enter x1: Error! Bookmark not defined.\n",
    "Enter y1: Error! Bookmark not defined.\n",
    "Enter x2: 10\n",
    "Enter y2:6\n",
    "Enter x: Error! Bookmark not defined.\n",
    "Enter y: Error! Bookmark not defined.\n",
    "\n",
    "True \n",
    "Do you want to continue: Y \n",
    "\n",
    "Enter x1: 1 \n",
    "Enter y1: 3\n",
    "Enter x2: 10\n",
    "Enter y2: 6\n",
    "Enter x: 4\n",
    "Enter y: 2\n",
    "\n",
    "False \n",
    "Do you want to continue: N Goodbye!"
   ]
  },
  {
   "cell_type": "code",
   "execution_count": null,
   "metadata": {},
   "outputs": [
    {
     "name": "stdout",
     "output_type": "stream",
     "text": [
      "Enter x1:2\n",
      "Enter y1:3\n",
      "Enter x2:4\n",
      "Enter y2:5\n",
      "Enter x:6\n",
      "Enter y:7\n",
      "False\n"
     ]
    }
   ],
   "source": [
    "xCornerOne = yCornerOne = xCornerTwo = yCornerTwo = xPoint = yPoint = -3\n",
    "xType = (type(xCornerOne))\n",
    "\n",
    "isContinue = \"Y\"\n",
    "\n",
    "while True:\n",
    "    try:\n",
    "        xCornerOne = int(input(\"Enter x1:\"))\n",
    "        yCornerOne = int(input(\"Enter y1:\"))\n",
    "        xCornerTwo = int(input(\"Enter x2:\"))\n",
    "        yCornerTwo = int(input(\"Enter y2:\"))\n",
    "        xPoint = int(input(\"Enter x:\"))\n",
    "        yPoint = int(input(\"Enter y:\"))\n",
    "        if (type(xCornerOne) and type(yCornerOne) and type(xCornerTwo)\n",
    "                and type(yCornerTwo) and type(xPoint)\n",
    "                and type(yPoint) == xType):\n",
    "            if (xCornerOne < xPoint <= xCornerTwo):\n",
    "                xBool = True\n",
    "            else:\n",
    "                xBool = False\n",
    "\n",
    "            if (yCornerTwo <= yPoint <= yCornerTwo):\n",
    "                yBool = True\n",
    "            else:\n",
    "                yBool = False\n",
    "\n",
    "            if (xBool and yBool == True):\n",
    "                print(True)\n",
    "            else:\n",
    "                print(False)\n",
    "\n",
    "            isContinue = input('Do you want to continue')\n",
    "            try:\n",
    "                if (isContinue == \"N\"):\n",
    "                    print('You have exited out ')\n",
    "                    break\n",
    "                else:\n",
    "                    isContinue == \"Y\"\n",
    "                    print('ahh, here we go again')\n",
    "                    continue\n",
    "            except ValueError:\n",
    "                print('Please enter either \"Y\" or \"N\" ')\n",
    "    except ValueError:\n",
    "        print('Error! Bookmark not defined.')\n",
    "\n",
    "        # xLength = xCornerTwo - xCornerOne\n",
    "        # yLength = yCornerTwo - yCornerOne\n",
    "\n",
    "        print(isContinue)\n",
    "        #isContinue = input('Do you want to continue')\n",
    "        print(type(isContinue))\n",
    "        print(isContinue)"
   ]
  },
  {
   "cell_type": "code",
   "execution_count": null,
   "metadata": {},
   "outputs": [],
   "source": []
  }
 ],
 "metadata": {
  "kernelspec": {
   "display_name": "Python 3",
   "language": "python",
   "name": "python3"
  },
  "language_info": {
   "codemirror_mode": {
    "name": "ipython",
    "version": 3
   },
   "file_extension": ".py",
   "mimetype": "text/x-python",
   "name": "python",
   "nbconvert_exporter": "python",
   "pygments_lexer": "ipython3",
   "version": "3.8.3"
  }
 },
 "nbformat": 4,
 "nbformat_minor": 4
}
