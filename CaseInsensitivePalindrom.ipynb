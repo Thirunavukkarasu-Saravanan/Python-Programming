{
 "cells": [
  {
   "cell_type": "markdown",
   "metadata": {},
   "source": [
    "4. (10 points) A palindrome is string that reads the same forwards and backwards. Write a Python program that reads in a string and determines whether the string is a palindrome or not. Note that a sentence that reads the same forwards and backwards by resequencing the spaces is also a palindrome and your program should consider this.\n",
    "Sample runs are shown below:\n",
    "Enter a string: mom “mom” is a palindrome\n",
    "Enter a string: apple “apple” is not a palindrome\n",
    "Enter a string: A nut for a jar of tuna\n",
    "“A nut for a jar of tuna” is a palindrome\n",
    "Enter a string: A nut for a jar of salmon\n",
    "“A nut for a jar of salmon” is not a palindrome\n",
    "\n",
    "Instruction/ Read me:\n",
    "1.  Programs starts by prompting user to enter a string.\n",
    "2.  String is converted to list of all the words by removing white spaces.\n",
    "3.  The list is converted back to a new string with no whitespaces.\n",
    "4.  Converted string with just lower case characeters and reverse of the same string is checked.\n",
    "5.  If condition is true, the string entered by user is a palindrome."
   ]
  },
  {
   "cell_type": "code",
   "execution_count": 1,
   "metadata": {},
   "outputs": [
    {
     "name": "stdout",
     "output_type": "stream",
     "text": [
      "Enter a string: Madam\n",
      "\" Madam \" is a palindrome\n"
     ]
    }
   ],
   "source": [
    "# Get user input string\n",
    "userInput = input(\"Enter a string: \")\n",
    "# split string into list by rmeoving whitespaces\n",
    "words = userInput.split()\n",
    "\n",
    "# print(words)\n",
    "# print(type(words))\n",
    "\n",
    "# declare empty string and conver list back into string with no whitespace\n",
    "actualString = \"\"\n",
    "actualString = actualString.join(words)\n",
    "\n",
    "# print(actualString)\n",
    "\n",
    "# comapare actual string and reverse of actual string for equality, both strings are conversted to lowercase for equality check\n",
    "if actualString.lower() == actualString[::-1].lower():\n",
    "    print('\"',userInput,'\"', \"is a palindrome\")\n",
    "else:\n",
    "    print('\"',userInput,'\"', \"is not a palindrome\")"
   ]
  },
  {
   "cell_type": "code",
   "execution_count": null,
   "metadata": {},
   "outputs": [],
   "source": []
  }
 ],
 "metadata": {
  "kernelspec": {
   "display_name": "Python 3",
   "language": "python",
   "name": "python3"
  },
  "language_info": {
   "codemirror_mode": {
    "name": "ipython",
    "version": 3
   },
   "file_extension": ".py",
   "mimetype": "text/x-python",
   "name": "python",
   "nbconvert_exporter": "python",
   "pygments_lexer": "ipython3",
   "version": "3.8.3"
  }
 },
 "nbformat": 4,
 "nbformat_minor": 4
}
