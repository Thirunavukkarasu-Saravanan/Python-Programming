{
 "cells": [
  {
   "cell_type": "markdown",
   "metadata": {},
   "source": [
    "Implement a Python function SimpleInterest() that takes in 3 arguments: \n",
    "a.\tA principle amount (float) \n",
    "b.\tInterest Rate (0 to 100 as a float) \n",
    "c.\tYear (integer) \n",
    "Your function should return the interest amount. \n",
    "The formula for a simple interest is (Principle*InterestRate*Years)/100 \n",
    " \n",
    "Write a main program that requests the principle amount, Interest rate and year from the user. Also in the main program you should call your defined function SimpleInterest() that takes these 3 arguments and display the results. \n",
    " \n",
    "Write your function definition in one cell and the function calling main program below it or in a different cell in Jupyter Notebook. I will be testing this program by modifying your program that calls this function. "
   ]
  },
  {
   "cell_type": "code",
   "execution_count": 1,
   "metadata": {},
   "outputs": [
    {
     "name": "stdout",
     "output_type": "stream",
     "text": [
      "data type of principle is  <class 'float'>\n",
      "data type of year <class 'int'>\n",
      "Enter Principle : 3\n",
      "Enter Interest : 4\n",
      "Enter Year : 5\n",
      "0.6\n"
     ]
    }
   ],
   "source": [
    "def SimpleInterest(principle, interest, year):\n",
    "    calculate = principle * interest * year / 100\n",
    "    return calculate\n",
    "\n",
    "\n",
    "# final = SimpleInterest(3,4,5)\n",
    "\n",
    "def main():\n",
    "    principleAmt = 0.0\n",
    "    interestRate = 0.0\n",
    "    year = 0\n",
    "\n",
    "    y_type = type(year)\n",
    "    p_type = type(principleAmt)\n",
    "\n",
    "    print ('data type of principle is ', p_type)\n",
    "    print ('data type of year', y_type)\n",
    "\n",
    "    while True:\n",
    "        try:\n",
    "            principleAmt = float(input('Enter Principle : '))\n",
    "            interestRate = float(input('Enter Interest : '))\n",
    "            year = int(input('Enter Year : '))\n",
    "\n",
    "            if type(principleAmt) == p_type and principleAmt > 0:\n",
    "                if type(interestRate) == p_type and interestRate > 0 \\\n",
    "                    and interestRate <= 100:\n",
    "                    if type(year) == y_type and year > 0:\n",
    "                        break\n",
    "                    else:\n",
    "                        print ('Please enter a positive integer greater than 0 for number of year')\n",
    "                else:\n",
    "                    print ('Please enter a positive integer greater than 0 for Interest rate')\n",
    "            else:\n",
    "                print ('Please enter a positive integer greater than 0 for Principle amount')\n",
    "        except ValueError:\n",
    "\n",
    "            print ('You entered a string, please try again')\n",
    "            print (principleAmt)\n",
    "\n",
    "    interestAmount = SimpleInterest(principleAmt, interestRate, year)\n",
    "\n",
    "    print (interestAmount)\n",
    "\n",
    "\n",
    "main()"
   ]
  },
  {
   "cell_type": "code",
   "execution_count": null,
   "metadata": {},
   "outputs": [],
   "source": []
  }
 ],
 "metadata": {
  "kernelspec": {
   "display_name": "Python 3",
   "language": "python",
   "name": "python3"
  },
  "language_info": {
   "codemirror_mode": {
    "name": "ipython",
    "version": 3
   },
   "file_extension": ".py",
   "mimetype": "text/x-python",
   "name": "python",
   "nbconvert_exporter": "python",
   "pygments_lexer": "ipython3",
   "version": "3.8.3"
  }
 },
 "nbformat": 4,
 "nbformat_minor": 4
}
